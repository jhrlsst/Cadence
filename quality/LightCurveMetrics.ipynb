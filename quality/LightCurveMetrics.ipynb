{
 "cells": [
  {
   "cell_type": "code",
   "execution_count": 1,
   "metadata": {
    "collapsed": false
   },
   "outputs": [
    {
     "name": "stderr",
     "output_type": "stream",
     "text": [
      "/usr/local/manual/anaconda/lib/python2.7/site-packages/IPython/kernel/__init__.py:13: ShimWarning: The `IPython.kernel` package has been deprecated. You should import from ipykernel or jupyter_client instead.\n",
      "  \"You should import from ipykernel or jupyter_client instead.\", ShimWarning)\n"
     ]
    }
   ],
   "source": [
    "from metrics import PerSNMetric\n",
    "from efficiencyTable import EfficiencyTable"
   ]
  },
  {
   "cell_type": "code",
   "execution_count": 2,
   "metadata": {
    "collapsed": true
   },
   "outputs": [],
   "source": [
    "from OpSimSummary import summarize_opsim as oss"
   ]
  },
  {
   "cell_type": "code",
   "execution_count": 3,
   "metadata": {
    "collapsed": true
   },
   "outputs": [],
   "source": [
    "import pandas as pd\n",
    "import sncosmo"
   ]
  },
  {
   "cell_type": "code",
   "execution_count": 4,
   "metadata": {
    "collapsed": true
   },
   "outputs": [],
   "source": [
    "%matplotlib inline \n",
    "import matplotlib.pyplot as plt\n",
    "import os\n",
    "import numpy as np\n",
    "import copy"
   ]
  },
  {
   "cell_type": "code",
   "execution_count": 5,
   "metadata": {
    "collapsed": true
   },
   "outputs": [],
   "source": [
    "from lsst.sims.photUtils import BandpassDict"
   ]
  },
  {
   "cell_type": "markdown",
   "metadata": {},
   "source": [
    "## Setup : Bandpasses"
   ]
  },
  {
   "cell_type": "code",
   "execution_count": 6,
   "metadata": {
    "collapsed": true
   },
   "outputs": [],
   "source": [
    "# Catsim bandpasses\n",
    "lsst_bp = BandpassDict.loadTotalBandpassesFromFiles()"
   ]
  },
  {
   "cell_type": "code",
   "execution_count": 7,
   "metadata": {
    "collapsed": false
   },
   "outputs": [
    {
     "name": "stdout",
     "output_type": "stream",
     "text": [
      "u\n",
      "g\n",
      "r\n",
      "i\n",
      "z\n",
      "y\n"
     ]
    }
   ],
   "source": [
    "# sncosmo Bandpasses required for fitting\n",
    "throughputsdir = os.getenv('THROUGHPUTS_DIR')\n",
    "\n",
    "from astropy.units import Unit\n",
    "bandPassList = ['u', 'g', 'r', 'i', 'z', 'y']\n",
    "banddir = os.path.join(os.getenv('THROUGHPUTS_DIR'), 'baseline')\n",
    "\n",
    "for band in bandPassList:\n",
    "\n",
    "    # setup sncosmo bandpasses\n",
    "    bandfname = banddir + \"/total_\" + band + '.dat'\n",
    "\n",
    "\n",
    "    # register the LSST bands to the SNCosmo registry\n",
    "    # Not needed for LSST, but useful to compare independent codes\n",
    "    # Usually the next two lines can be merged,\n",
    "    # but there is an astropy bug currently which affects only OSX.\n",
    "    numpyband = np.loadtxt(bandfname)\n",
    "    print band\n",
    "    sncosmoband = sncosmo.Bandpass(wave=numpyband[:, 0],\n",
    "                                   trans=numpyband[:, 1],\n",
    "                                   wave_unit=Unit('nm'),\n",
    "                                   name=band)\n",
    "    sncosmo.registry.register(sncosmoband, force=True)"
   ]
  },
  {
   "cell_type": "code",
   "execution_count": 8,
   "metadata": {
    "collapsed": true
   },
   "outputs": [],
   "source": [
    "et = EfficiencyTable.fromDES_EfficiencyFile('example_data/SEARCHEFF_PIPELINE_DES.DAT')"
   ]
  },
  {
   "cell_type": "code",
   "execution_count": 9,
   "metadata": {
    "collapsed": true
   },
   "outputs": [],
   "source": [
    "from lsst.sims.catUtils.mixins import SNObject"
   ]
  },
  {
   "cell_type": "code",
   "execution_count": 10,
   "metadata": {
    "collapsed": false
   },
   "outputs": [],
   "source": [
    "opsimHDF = os.path.join(os.getenv('HOME'), 'data', 'LSST', 'OpSimData', 'storage.h5')\n",
    "summarydf = pd.read_hdf(opsimHDF, 'table')\n",
    "# df = df.query('propID == [364, 366]')"
   ]
  },
  {
   "cell_type": "code",
   "execution_count": 11,
   "metadata": {
    "collapsed": true
   },
   "outputs": [],
   "source": [
    "summarydf = summarydf.query('propID == [364, 366]').query('night < 300')"
   ]
  },
  {
   "cell_type": "code",
   "execution_count": 12,
   "metadata": {
    "collapsed": false
   },
   "outputs": [
    {
     "data": {
      "text/html": [
       "<div style=\"max-height:1000px;max-width:1500px;overflow:auto;\">\n",
       "<table border=\"1\" class=\"dataframe\">\n",
       "  <thead>\n",
       "    <tr style=\"text-align: right;\">\n",
       "      <th></th>\n",
       "      <th>obsHistID</th>\n",
       "      <th>sessionID</th>\n",
       "      <th>propID</th>\n",
       "      <th>fieldID</th>\n",
       "      <th>fieldRA</th>\n",
       "      <th>fieldDec</th>\n",
       "      <th>filter</th>\n",
       "      <th>expDate</th>\n",
       "      <th>expMJD</th>\n",
       "      <th>night</th>\n",
       "      <th>...</th>\n",
       "      <th>wind</th>\n",
       "      <th>humidity</th>\n",
       "      <th>slewDist</th>\n",
       "      <th>slewTime</th>\n",
       "      <th>fiveSigmaDepth</th>\n",
       "      <th>ditheredRA</th>\n",
       "      <th>ditheredDec</th>\n",
       "      <th>gamma</th>\n",
       "      <th>N0sq</th>\n",
       "      <th>alpha</th>\n",
       "    </tr>\n",
       "  </thead>\n",
       "  <tbody>\n",
       "    <tr>\n",
       "      <th>0</th>\n",
       "      <td>1</td>\n",
       "      <td>1189</td>\n",
       "      <td>364</td>\n",
       "      <td>316</td>\n",
       "      <td>1.676483</td>\n",
       "      <td>-1.082473</td>\n",
       "      <td>y</td>\n",
       "      <td>2771</td>\n",
       "      <td>49353.032079</td>\n",
       "      <td>0</td>\n",
       "      <td>...</td>\n",
       "      <td>0</td>\n",
       "      <td>0</td>\n",
       "      <td>1.620307</td>\n",
       "      <td>0.000000</td>\n",
       "      <td>21.084291</td>\n",
       "      <td>1.643930</td>\n",
       "      <td>-1.108924</td>\n",
       "      <td>0.039924</td>\n",
       "      <td>0.000002</td>\n",
       "      <td>0.039924</td>\n",
       "    </tr>\n",
       "    <tr>\n",
       "      <th>1</th>\n",
       "      <td>2</td>\n",
       "      <td>1189</td>\n",
       "      <td>364</td>\n",
       "      <td>372</td>\n",
       "      <td>1.694120</td>\n",
       "      <td>-1.033972</td>\n",
       "      <td>y</td>\n",
       "      <td>2810</td>\n",
       "      <td>49353.032525</td>\n",
       "      <td>0</td>\n",
       "      <td>...</td>\n",
       "      <td>0</td>\n",
       "      <td>0</td>\n",
       "      <td>0.049266</td>\n",
       "      <td>4.542362</td>\n",
       "      <td>21.088257</td>\n",
       "      <td>1.664257</td>\n",
       "      <td>-1.060423</td>\n",
       "      <td>0.039924</td>\n",
       "      <td>0.000002</td>\n",
       "      <td>0.039924</td>\n",
       "    </tr>\n",
       "    <tr>\n",
       "      <th>2</th>\n",
       "      <td>3</td>\n",
       "      <td>1189</td>\n",
       "      <td>364</td>\n",
       "      <td>441</td>\n",
       "      <td>1.708513</td>\n",
       "      <td>-0.985271</td>\n",
       "      <td>y</td>\n",
       "      <td>2848</td>\n",
       "      <td>49353.032971</td>\n",
       "      <td>0</td>\n",
       "      <td>...</td>\n",
       "      <td>0</td>\n",
       "      <td>0</td>\n",
       "      <td>0.049298</td>\n",
       "      <td>4.561422</td>\n",
       "      <td>21.091100</td>\n",
       "      <td>1.680878</td>\n",
       "      <td>-1.011722</td>\n",
       "      <td>0.039924</td>\n",
       "      <td>0.000002</td>\n",
       "      <td>0.039924</td>\n",
       "    </tr>\n",
       "    <tr>\n",
       "      <th>3</th>\n",
       "      <td>4</td>\n",
       "      <td>1189</td>\n",
       "      <td>364</td>\n",
       "      <td>505</td>\n",
       "      <td>1.720374</td>\n",
       "      <td>-0.936476</td>\n",
       "      <td>y</td>\n",
       "      <td>2887</td>\n",
       "      <td>49353.033417</td>\n",
       "      <td>0</td>\n",
       "      <td>...</td>\n",
       "      <td>0</td>\n",
       "      <td>0</td>\n",
       "      <td>0.049266</td>\n",
       "      <td>4.570186</td>\n",
       "      <td>21.092714</td>\n",
       "      <td>1.694604</td>\n",
       "      <td>-0.962927</td>\n",
       "      <td>0.039924</td>\n",
       "      <td>0.000002</td>\n",
       "      <td>0.039924</td>\n",
       "    </tr>\n",
       "    <tr>\n",
       "      <th>4</th>\n",
       "      <td>5</td>\n",
       "      <td>1189</td>\n",
       "      <td>364</td>\n",
       "      <td>587</td>\n",
       "      <td>1.730248</td>\n",
       "      <td>-0.887672</td>\n",
       "      <td>y</td>\n",
       "      <td>2925</td>\n",
       "      <td>49353.033864</td>\n",
       "      <td>0</td>\n",
       "      <td>...</td>\n",
       "      <td>0</td>\n",
       "      <td>0</td>\n",
       "      <td>0.049177</td>\n",
       "      <td>4.568530</td>\n",
       "      <td>21.093091</td>\n",
       "      <td>1.706054</td>\n",
       "      <td>-0.914123</td>\n",
       "      <td>0.039924</td>\n",
       "      <td>0.000002</td>\n",
       "      <td>0.039924</td>\n",
       "    </tr>\n",
       "  </tbody>\n",
       "</table>\n",
       "<p>5 rows × 48 columns</p>\n",
       "</div>"
      ],
      "text/plain": [
       "   obsHistID  sessionID  propID  fieldID   fieldRA  fieldDec filter  expDate  \\\n",
       "0          1       1189     364      316  1.676483 -1.082473      y     2771   \n",
       "1          2       1189     364      372  1.694120 -1.033972      y     2810   \n",
       "2          3       1189     364      441  1.708513 -0.985271      y     2848   \n",
       "3          4       1189     364      505  1.720374 -0.936476      y     2887   \n",
       "4          5       1189     364      587  1.730248 -0.887672      y     2925   \n",
       "\n",
       "         expMJD  night    ...     wind  humidity  slewDist  slewTime  \\\n",
       "0  49353.032079      0    ...        0         0  1.620307  0.000000   \n",
       "1  49353.032525      0    ...        0         0  0.049266  4.542362   \n",
       "2  49353.032971      0    ...        0         0  0.049298  4.561422   \n",
       "3  49353.033417      0    ...        0         0  0.049266  4.570186   \n",
       "4  49353.033864      0    ...        0         0  0.049177  4.568530   \n",
       "\n",
       "   fiveSigmaDepth  ditheredRA  ditheredDec     gamma      N0sq     alpha  \n",
       "0       21.084291    1.643930    -1.108924  0.039924  0.000002  0.039924  \n",
       "1       21.088257    1.664257    -1.060423  0.039924  0.000002  0.039924  \n",
       "2       21.091100    1.680878    -1.011722  0.039924  0.000002  0.039924  \n",
       "3       21.092714    1.694604    -0.962927  0.039924  0.000002  0.039924  \n",
       "4       21.093091    1.706054    -0.914123  0.039924  0.000002  0.039924  \n",
       "\n",
       "[5 rows x 48 columns]"
      ]
     },
     "execution_count": 12,
     "metadata": {},
     "output_type": "execute_result"
    }
   ],
   "source": [
    "summarydf.head()"
   ]
  },
  {
   "cell_type": "code",
   "execution_count": 13,
   "metadata": {
    "collapsed": false
   },
   "outputs": [],
   "source": [
    "qm_309 = PerSNMetric(fieldID=309, t0=49540, summarydf=summarydf, lsst_bp=lsst_bp, efficiency=et)"
   ]
  },
  {
   "cell_type": "code",
   "execution_count": 50,
   "metadata": {
    "collapsed": false
   },
   "outputs": [
    {
     "data": {
      "text/plain": [
       "0.0029671277166204053"
      ]
     },
     "execution_count": 50,
     "metadata": {},
     "output_type": "execute_result"
    }
   ],
   "source": [
    "qm_309.qualityMetric()"
   ]
  },
  {
   "cell_type": "code",
   "execution_count": 14,
   "metadata": {
    "collapsed": false
   },
   "outputs": [
    {
     "data": {
      "text/plain": [
       "Index([u'time', u'band', u'flux', u'fluxerr', u'zp', u'zpsys', u'SNR', u'finSeeing', u'airmass', u'filtSkyBrightness', u'fiveSigmaDepth', u'propID', u'night', u'DetectionEfficiency'], dtype='object')"
      ]
     },
     "execution_count": 14,
     "metadata": {},
     "output_type": "execute_result"
    }
   ],
   "source": [
    "qm_309.lightcurve.columns"
   ]
  },
  {
   "cell_type": "code",
   "execution_count": null,
   "metadata": {
    "collapsed": true
   },
   "outputs": [],
   "source": []
  }
 ],
 "metadata": {
  "kernelspec": {
   "display_name": "Python 2",
   "language": "python",
   "name": "python2"
  },
  "language_info": {
   "codemirror_mode": {
    "name": "ipython",
    "version": 2
   },
   "file_extension": ".py",
   "mimetype": "text/x-python",
   "name": "python",
   "nbconvert_exporter": "python",
   "pygments_lexer": "ipython2",
   "version": "2.7.10"
  }
 },
 "nbformat": 4,
 "nbformat_minor": 0
}
