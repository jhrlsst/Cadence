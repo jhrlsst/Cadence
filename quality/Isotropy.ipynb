{
 "cells": [
  {
   "cell_type": "code",
   "execution_count": 6,
   "metadata": {
    "collapsed": true
   },
   "outputs": [],
   "source": [
    "import numpy as np\n",
    "%matplotlib inline\n",
    "import matplotlib.pyplot as plt"
   ]
  },
  {
   "cell_type": "code",
   "execution_count": 7,
   "metadata": {
    "collapsed": false
   },
   "outputs": [],
   "source": [
    "from astropy.cosmology import Planck13 as cosmo"
   ]
  },
  {
   "cell_type": "code",
   "execution_count": 8,
   "metadata": {
    "collapsed": true
   },
   "outputs": [],
   "source": [
    "percent = lambda z, deltaz: 5.0 / np.log(10) *(cosmo.luminosity_distance(z + deltaz) - cosmo.luminosity_distance(z))/cosmo.luminosity_distance(z)"
   ]
  },
  {
   "cell_type": "code",
   "execution_count": 9,
   "metadata": {
    "collapsed": false
   },
   "outputs": [
    {
     "name": "stderr",
     "output_type": "stream",
     "text": [
      "/usr/local/manual/anaconda/lib/python2.7/site-packages/astropy/units/quantity.py:757: RuntimeWarning: divide by zero encountered in true_divide\n",
      "  return np.true_divide(self, other)\n"
     ]
    },
    {
     "data": {
      "text/plain": [
       "<matplotlib.text.Text at 0x1007353d0>"
      ]
     },
     "execution_count": 9,
     "metadata": {},
     "output_type": "execute_result"
    },
    {
     "data": {
      "image/png": "[encoded data removed]",
      "text/plain": [
       "<matplotlib.figure.Figure at 0x1067adfd0>"
      ]
     },
     "metadata": {},
     "output_type": "display_data"
    }
   ],
   "source": [
    "zvals = np.arange(0., 1.2, 0.01)\n",
    "fig, ax = plt.subplots()\n",
    "ax.plot(zvals, percent(zvals, 0.04*(1.+zvals)),'b',label='photoz_error=0.04')\n",
    "ax.plot(zvals, percent(zvals, 0.01*(1.+zvals)),'r',label='photoz_error=0.01')\n",
    "ax.axhline(0.1, color='k', lw=2.)\n",
    "ax.grid(True)\n",
    "ax.set_ylim(ymax=1.)\n",
    "ax.set_ylabel(r'$\\sigma_{mu}$')\n",
    "ax.set_xlabel(r'$z$')"
   ]
  }
 ],
 "metadata": {
  "kernelspec": {
   "display_name": "Python 2",
   "language": "python",
   "name": "python2"
  },
  "language_info": {
   "codemirror_mode": {
    "name": "ipython",
    "version": 2
   },
   "file_extension": ".py",
   "mimetype": "text/x-python",
   "name": "python",
   "nbconvert_exporter": "python",
   "pygments_lexer": "ipython2",
   "version": "2.7.10"
  }
 },
 "nbformat": 4,
 "nbformat_minor": 0
}
